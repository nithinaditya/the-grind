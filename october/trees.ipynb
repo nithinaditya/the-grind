{
  "nbformat": 4,
  "nbformat_minor": 0,
  "metadata": {
    "colab": {
      "provenance": [],
      "authorship_tag": "ABX9TyOUj5qOGlYQLWT3EhlxANaz",
      "include_colab_link": true
    },
    "kernelspec": {
      "name": "python3",
      "display_name": "Python 3"
    },
    "language_info": {
      "name": "python"
    }
  },
  "cells": [
    {
      "cell_type": "markdown",
      "metadata": {
        "id": "view-in-github",
        "colab_type": "text"
      },
      "source": [
        "<a href=\"https://colab.research.google.com/github/nithinaditya/the-grind/blob/main/october/trees.ipynb\" target=\"_parent\"><img src=\"https://colab.research.google.com/assets/colab-badge.svg\" alt=\"Open In Colab\"/></a>"
      ]
    },
    {
      "cell_type": "code",
      "execution_count": null,
      "metadata": {
        "id": "c74zYjL8lbNs"
      },
      "outputs": [],
      "source": [
        "#Range Sum of a BST\n",
        "class Solution:\n",
        "    def rangeSumBST(self, root: TreeNode, L: int, R: int) -> int:\n",
        "        if root is None: return 0\n",
        "        if root.val > R: \n",
        "            return self.rangeSumBST(root.left,L,R)\n",
        "        if root.val < L: \n",
        "            return self.rangeSumBST(root.right,L,R)\n",
        "        return root.val + self.rangeSumBST(root.left,L,R) + self.rangeSumBST(root.right,L,R)      "
      ]
    }
  ]
}