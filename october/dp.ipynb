{
  "nbformat": 4,
  "nbformat_minor": 0,
  "metadata": {
    "colab": {
      "provenance": [],
      "authorship_tag": "ABX9TyPRpyF+qt1Vx+/PdgIXsJ0L",
      "include_colab_link": true
    },
    "kernelspec": {
      "name": "python3",
      "display_name": "Python 3"
    },
    "language_info": {
      "name": "python"
    }
  },
  "cells": [
    {
      "cell_type": "markdown",
      "metadata": {
        "id": "view-in-github",
        "colab_type": "text"
      },
      "source": [
        "<a href=\"https://colab.research.google.com/github/nithinaditya/the-grind/blob/main/october/dp.ipynb\" target=\"_parent\"><img src=\"https://colab.research.google.com/assets/colab-badge.svg\" alt=\"Open In Colab\"/></a>"
      ]
    },
    {
      "cell_type": "code",
      "execution_count": null,
      "metadata": {
        "id": "wLp--3PQLJiK"
      },
      "outputs": [],
      "source": [
        "class Solution:\n",
        "    def minCostClimbingStairs(self, cost: List[int]) -> int:\n",
        "        if not cost:\n",
        "            return 0\n",
        "        cur = 0\n",
        "        dp0= cost[0]\n",
        "        \n",
        "        if len(cost) >= 2:\n",
        "            dp1=cost[1]\n",
        "        \n",
        "        for i in range(2, len(cost)):\n",
        "            cur = cost[i] + min(dp0,dp1)\n",
        "            dp0 = dp1\n",
        "            dp1 = cur\n",
        "            \n",
        "        return min(dp0,dp1)"
      ]
    },
    {
      "cell_type": "code",
      "source": [
        "class Solution:\n",
        "    def countBits(self, num: int) -> List[int]:\n",
        "        \n",
        "        counter = [0]\n",
        "        for i in range(1, num+1):\n",
        "            counter.append(counter[i >> 1] + i % 2)\n",
        "            #print(counter)\n",
        "        return counter"
      ],
      "metadata": {
        "id": "bzD6COz0LUVP"
      },
      "execution_count": null,
      "outputs": []
    },
    {
      "cell_type": "code",
      "source": [
        "class Solution:\n",
        "    def generate(self, n: int) -> List[List[int]]:\n",
        "        ans = [[1]*i for i in range(1, n+1)]  \n",
        "        for i in range(1, n):\n",
        "            for j in range(1, i):\n",
        "                ans[i][j] = ans[i-1][j] + ans[i-1][j-1] \n",
        "        return ans"
      ],
      "metadata": {
        "id": "4i1-Dd6iLmoL"
      },
      "execution_count": null,
      "outputs": []
    },
    {
      "cell_type": "code",
      "source": [
        "class Solution:\n",
        "    def climbStairs(self, n: int) -> int:\n",
        "        def climb(n):  \n",
        "            if n in memo:\n",
        "                return memo[n]\n",
        "            else:\n",
        "                memo[n] = climb(n-1) + climb(n-2)\n",
        "                return memo[n]\n",
        "        memo = {1: 1, 2: 2}  \n",
        "        return climb(n)"
      ],
      "metadata": {
        "id": "93SD0DIFLnHw"
      },
      "execution_count": null,
      "outputs": []
    }
  ]
}