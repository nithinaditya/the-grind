{
  "nbformat": 4,
  "nbformat_minor": 0,
  "metadata": {
    "colab": {
      "provenance": [],
      "authorship_tag": "ABX9TyNTyjjS9ppOSCVgl4S0xShR",
      "include_colab_link": true
    },
    "kernelspec": {
      "name": "python3",
      "display_name": "Python 3"
    },
    "language_info": {
      "name": "python"
    }
  },
  "cells": [
    {
      "cell_type": "markdown",
      "metadata": {
        "id": "view-in-github",
        "colab_type": "text"
      },
      "source": [
        "<a href=\"https://colab.research.google.com/github/nithinaditya/the-grind/blob/main/october/october.ipynb\" target=\"_parent\"><img src=\"https://colab.research.google.com/assets/colab-badge.svg\" alt=\"Open In Colab\"/></a>"
      ]
    },
    {
      "cell_type": "code",
      "execution_count": null,
      "metadata": {
        "id": "ibt__Sf10jru"
      },
      "outputs": [],
      "source": [
        "#Longest Common Prefix\n",
        "class Solution:\n",
        "    def longestCommonPrefix(self, strs: List[str]) -> str:\n",
        "        n = 0\n",
        "        ans = ''\n",
        "        if(len(strs) == 1):\n",
        "            return strs[0]\n",
        "        for i in range(len(strs[0]) + 1):\n",
        "            ans = strs[0][:i]\n",
        "            print(ans)\n",
        "            for j in range(1, len(strs)):\n",
        "                if(strs[j][:i] == ans):\n",
        "                    pass\n",
        "                else:\n",
        "                    return ans[:len(ans) - 1]\n",
        "        return ans"
      ]
    }
  ]
}