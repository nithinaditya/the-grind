{
  "nbformat": 4,
  "nbformat_minor": 0,
  "metadata": {
    "colab": {
      "provenance": [],
      "authorship_tag": "ABX9TyNtCjcRJzNWWrReImwFnFe8",
      "include_colab_link": true
    },
    "kernelspec": {
      "name": "python3",
      "display_name": "Python 3"
    },
    "language_info": {
      "name": "python"
    }
  },
  "cells": [
    {
      "cell_type": "markdown",
      "metadata": {
        "id": "view-in-github",
        "colab_type": "text"
      },
      "source": [
        "<a href=\"https://colab.research.google.com/github/nithinaditya/the-grind/blob/main/nithins_september.ipynb\" target=\"_parent\"><img src=\"https://colab.research.google.com/assets/colab-badge.svg\" alt=\"Open In Colab\"/></a>"
      ]
    },
    {
      "cell_type": "markdown",
      "source": [
        "# September"
      ],
      "metadata": {
        "id": "8Mynu8vensD-"
      }
    },
    {
      "cell_type": "markdown",
      "source": [
        "28/09/22"
      ],
      "metadata": {
        "id": "MrgNcs1anyeV"
      }
    },
    {
      "cell_type": "code",
      "source": [
        "#240. Search a 2D Matrix II\n",
        "#https://leetcode.com/problems/search-a-2d-matrix-ii/\n",
        "\n",
        "class Solution:\n",
        "    def searchMatrix(self, matrix: List[List[int]], target: int) -> bool:\n",
        "        row, column = len(matrix) - 1, 0\n",
        "        while(row >= 0 and column <= len(matrix[0])-1):\n",
        "            if(matrix[row][column] > target):\n",
        "                row -= 1\n",
        "            elif(matrix[row][column] < target):\n",
        "                column += 1\n",
        "            else:\n",
        "                return True\n",
        "        return False"
      ],
      "metadata": {
        "id": "k9-nOWnWo5k9"
      },
      "execution_count": null,
      "outputs": []
    },
    {
      "cell_type": "code",
      "execution_count": null,
      "metadata": {
        "id": "wVVKK6yqi_jK"
      },
      "outputs": [],
      "source": [
        "#287. Find the Duplicate Number\n",
        "#https://leetcode.com/problems/find-the-duplicate-number/\n",
        "\n",
        "from collections import Counter\n",
        "class Solution:\n",
        "    def findDuplicate(self, nums: List[int]) -> int:\n",
        "        d1 = Counter(nums)\n",
        "        for i in range(1, len(nums)):\n",
        "            if(d1[i] > 1):\n",
        "                return i\n",
        "#without Counter"
      ]
    }
  ]
}