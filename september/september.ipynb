{
  "nbformat": 4,
  "nbformat_minor": 0,
  "metadata": {
    "colab": {
      "provenance": [],
      "authorship_tag": "ABX9TyM5Sm5Hs5g0gpv12OfDEWtM",
      "include_colab_link": true
    },
    "kernelspec": {
      "name": "python3",
      "display_name": "Python 3"
    },
    "language_info": {
      "name": "python"
    }
  },
  "cells": [
    {
      "cell_type": "markdown",
      "metadata": {
        "id": "view-in-github",
        "colab_type": "text"
      },
      "source": [
        "<a href=\"https://colab.research.google.com/github/nithinaditya/the-grind/blob/main/september/september.ipynb\" target=\"_parent\"><img src=\"https://colab.research.google.com/assets/colab-badge.svg\" alt=\"Open In Colab\"/></a>"
      ]
    },
    {
      "cell_type": "markdown",
      "source": [
        "# 28/09/22"
      ],
      "metadata": {
        "id": "MrgNcs1anyeV"
      }
    },
    {
      "cell_type": "markdown",
      "source": [
        "[240. Search a 2D Matrix II](https://leetcode.com/problems/search-a-2d-matrix-ii/)"
      ],
      "metadata": {
        "id": "EANG_s6drV2Q"
      }
    },
    {
      "cell_type": "code",
      "source": [
        "class Solution:\n",
        "    def searchMatrix(self, matrix: List[List[int]], target: int) -> bool:\n",
        "        row, column = len(matrix) - 1, 0\n",
        "        while(row >= 0 and column <= len(matrix[0])-1):\n",
        "            if(matrix[row][column] > target):\n",
        "                row -= 1\n",
        "            elif(matrix[row][column] < target):\n",
        "                column += 1\n",
        "            else:\n",
        "                return True\n",
        "        return False"
      ],
      "metadata": {
        "id": "k9-nOWnWo5k9"
      },
      "execution_count": null,
      "outputs": []
    },
    {
      "cell_type": "markdown",
      "source": [
        "[287. Find the Duplicate Number](https://leetcode.com/problems/find-the-duplicate-number/)\n",
        "\n",
        "\n",
        "\n",
        "\n"
      ],
      "metadata": {
        "id": "Pa0RjP8Zrkkv"
      }
    },
    {
      "cell_type": "code",
      "execution_count": null,
      "metadata": {
        "id": "wVVKK6yqi_jK"
      },
      "outputs": [],
      "source": [
        "from collections import Counter\n",
        "class Solution:\n",
        "    def findDuplicate(self, nums: List[int]) -> int:\n",
        "        d1 = Counter(nums)\n",
        "        for i in range(1, len(nums)):\n",
        "            if(d1[i] > 1):\n",
        "                return i\n",
        "#without Counter"
      ]
    },
    {
      "cell_type": "markdown",
      "source": [
        "[232. Implement Queue using Stacks](https://leetcode.com/problems/implement-queue-using-stacks/)\n",
        "\n",
        "\n"
      ],
      "metadata": {
        "id": "64IFeJF5e9SZ"
      }
    },
    {
      "cell_type": "code",
      "source": [
        "class MyQueue:\n",
        "    def __init__(self):\n",
        "        self.s1 = []\n",
        "        self.s2 = []\n",
        "\n",
        "    def push(self, x: int) -> None:\n",
        "        self.s1.append(x)\n",
        "\n",
        "    def pop(self) -> int:\n",
        "        if not self.s2:\n",
        "            while self.s1:\n",
        "                self.s2.append(self.s1.pop())\n",
        "        return self.s2.pop()\n",
        "\n",
        "    def peek(self) -> int:\n",
        "        if not self.s2:\n",
        "            while self.s1:\n",
        "                self.s2.append(self.s1.pop())\n",
        "        return self.s2[-1]\n",
        "\n",
        "    def empty(self) -> bool:\n",
        "        return len(self.s1) == 0 and len(self.s2) == 0\n"
      ],
      "metadata": {
        "id": "xmNannHUe4wI"
      },
      "execution_count": null,
      "outputs": []
    },
    {
      "cell_type": "markdown",
      "source": [
        "[155. Min Stack](https://leetcode.com/problems/min-stack/)\n",
        "\n",
        "\n"
      ],
      "metadata": {
        "id": "eJSIs0NJkdqS"
      }
    },
    {
      "cell_type": "code",
      "source": [
        "class MinStack:\n",
        "\n",
        "    def __init__(self):\n",
        "        self.stack = list()\n",
        "        self.min = float('inf')\n",
        "        \n",
        "    def push(self, x: int) -> None:\n",
        "        if len(self.stack) == 0:\n",
        "            self.stack.append((x, None))\n",
        "            self.min = x\n",
        "        else:\n",
        "            if x <= self.min:\n",
        "                self.stack.append((x, self.min))\n",
        "                self.min = x\n",
        "            else:\n",
        "                self.stack.append((x,None))\n",
        "                \n",
        "    def pop(self) -> None:\n",
        "        temp = self.stack.pop()\n",
        "        if temp[0] == self.min:\n",
        "            self.min = temp[1]\n",
        "\n",
        "    def top(self) -> int:\n",
        "        return self.stack[-1][0]\n",
        "\n",
        "    def getMin(self) -> int:\n",
        "        return self.min"
      ],
      "metadata": {
        "id": "zKvtYxGOfHJy"
      },
      "execution_count": null,
      "outputs": []
    },
    {
      "cell_type": "code",
      "source": [
        "#2181. Merge Nodes in Between Zeros\n",
        "# Definition for singly-linked list.\n",
        "# class ListNode:\n",
        "#     def __init__(self, val=0, next=None):\n",
        "#         self.val = val\n",
        "#         self.next = next\n",
        "class Solution:\n",
        "    def mergeNodes(self, head: Optional[ListNode]) -> Optional[ListNode]:\n",
        "        l = head\n",
        "        r = head.next\n",
        "        \n",
        "        val = 0\n",
        "        while(r):\n",
        "            if r.val == 0:\n",
        "                l = l.next\n",
        "                l.val = val\n",
        "                val = 0\n",
        "            else:\n",
        "                val += r.val\n",
        "            r = r.next\n",
        "        l.next=None\n",
        "        \n",
        "        return head.next\n"
      ],
      "metadata": {
        "id": "EJs6RXMuPEOR"
      },
      "execution_count": null,
      "outputs": []
    }
  ]
}