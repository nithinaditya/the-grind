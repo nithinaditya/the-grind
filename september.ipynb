{
  "nbformat": 4,
  "nbformat_minor": 0,
  "metadata": {
    "colab": {
      "provenance": [],
      "authorship_tag": "ABX9TyNe4SaJEyV98YGsGhsfQeQ+",
      "include_colab_link": true
    },
    "kernelspec": {
      "name": "python3",
      "display_name": "Python 3"
    },
    "language_info": {
      "name": "python"
    }
  },
  "cells": [
    {
      "cell_type": "markdown",
      "metadata": {
        "id": "view-in-github",
        "colab_type": "text"
      },
      "source": [
        "<a href=\"https://colab.research.google.com/github/nithinaditya/the-grind/blob/main/september.ipynb\" target=\"_parent\"><img src=\"https://colab.research.google.com/assets/colab-badge.svg\" alt=\"Open In Colab\"/></a>"
      ]
    },
    {
      "cell_type": "markdown",
      "source": [
        "# 28/09/22"
      ],
      "metadata": {
        "id": "MrgNcs1anyeV"
      }
    },
    {
      "cell_type": "markdown",
      "source": [
        "[240. Search a 2D Matrix II](https://leetcode.com/problems/search-a-2d-matrix-ii/)"
      ],
      "metadata": {
        "id": "EANG_s6drV2Q"
      }
    },
    {
      "cell_type": "code",
      "source": [
        "class Solution:\n",
        "    def searchMatrix(self, matrix: List[List[int]], target: int) -> bool:\n",
        "        row, column = len(matrix) - 1, 0\n",
        "        while(row >= 0 and column <= len(matrix[0])-1):\n",
        "            if(matrix[row][column] > target):\n",
        "                row -= 1\n",
        "            elif(matrix[row][column] < target):\n",
        "                column += 1\n",
        "            else:\n",
        "                return True\n",
        "        return False"
      ],
      "metadata": {
        "id": "k9-nOWnWo5k9"
      },
      "execution_count": null,
      "outputs": []
    },
    {
      "cell_type": "markdown",
      "source": [
        "[287. Find the Duplicate Number](https://leetcode.com/problems/find-the-duplicate-number/)\n",
        "\n",
        "\n"
      ],
      "metadata": {
        "id": "Pa0RjP8Zrkkv"
      }
    },
    {
      "cell_type": "code",
      "execution_count": null,
      "metadata": {
        "id": "wVVKK6yqi_jK"
      },
      "outputs": [],
      "source": [
        "from collections import Counter\n",
        "class Solution:\n",
        "    def findDuplicate(self, nums: List[int]) -> int:\n",
        "        d1 = Counter(nums)\n",
        "        for i in range(1, len(nums)):\n",
        "            if(d1[i] > 1):\n",
        "                return i\n",
        "#without Counter"
      ]
    }
  ]
}