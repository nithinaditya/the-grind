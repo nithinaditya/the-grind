{
  "nbformat": 4,
  "nbformat_minor": 0,
  "metadata": {
    "colab": {
      "provenance": [],
      "authorship_tag": "ABX9TyP+mUlmjkhrUHd/uw5vUCve",
      "include_colab_link": true
    },
    "kernelspec": {
      "name": "python3",
      "display_name": "Python 3"
    },
    "language_info": {
      "name": "python"
    }
  },
  "cells": [
    {
      "cell_type": "markdown",
      "metadata": {
        "id": "view-in-github",
        "colab_type": "text"
      },
      "source": [
        "<a href=\"https://colab.research.google.com/github/nithinaditya/the-grind/blob/main/dp.ipynb\" target=\"_parent\"><img src=\"https://colab.research.google.com/assets/colab-badge.svg\" alt=\"Open In Colab\"/></a>"
      ]
    },
    {
      "cell_type": "code",
      "execution_count": null,
      "metadata": {
        "id": "wLp--3PQLJiK"
      },
      "outputs": [],
      "source": [
        "\n",
        "class Solution:\n",
        "    def minCostClimbingStairs(self, cost: List[int]) -> int:\n",
        "        if not cost:\n",
        "            return 0\n",
        "        cur = 0\n",
        "        dp0= cost[0]\n",
        "        \n",
        "        if len(cost) >= 2:\n",
        "            dp1=cost[1]\n",
        "        \n",
        "        for i in range(2, len(cost)):\n",
        "            cur = cost[i] + min(dp0,dp1)\n",
        "            dp0 = dp1\n",
        "            dp1 = cur\n",
        "            \n",
        "        return min(dp0,dp1)"
      ]
    },
    {
      "cell_type": "code",
      "source": [
        "class Solution:\n",
        "    def countBits(self, num: int) -> List[int]:\n",
        "        \n",
        "        counter = [0]\n",
        "        for i in range(1, num+1):\n",
        "            counter.append(counter[i >> 1] + i % 2)\n",
        "            #print(counter)\n",
        "        return counter"
      ],
      "metadata": {
        "id": "bzD6COz0LUVP"
      },
      "execution_count": null,
      "outputs": []
    },
    {
      "cell_type": "code",
      "source": [
        "class Solution:\n",
        "    def generate(self, n: int) -> List[List[int]]:\n",
        "        ans = [[1]*i for i in range(1, n+1)]  \n",
        "        for i in range(1, n):\n",
        "            for j in range(1, i):\n",
        "                ans[i][j] = ans[i-1][j] + ans[i-1][j-1] \n",
        "        return ans"
      ],
      "metadata": {
        "id": "4i1-Dd6iLmoL"
      },
      "execution_count": null,
      "outputs": []
    },
    {
      "cell_type": "code",
      "source": [
        "class Solution:\n",
        "    def climbStairs(self, n: int) -> int:\n",
        "        def climb(n):  \n",
        "            if n in memo:\n",
        "                return memo[n]\n",
        "            else:\n",
        "                memo[n] = climb(n-1) + climb(n-2)\n",
        "                return memo[n]\n",
        "        memo = {1: 1, 2: 2}  \n",
        "        return climb(n)"
      ],
      "metadata": {
        "id": "93SD0DIFLnHw"
      },
      "execution_count": null,
      "outputs": []
    },
    {
      "cell_type": "markdown",
      "source": [
        "### [1035. Divisor Game](https://leetcode.com/problems/divisor-game/)\n",
        "Alice and Bob take turns playing a game, with Alice starting first.\n",
        "\n",
        "Initially, there is a number n on the chalkboard. On each player's turn, that player makes a move consisting of:\n",
        "\n",
        "    Choosing any x with 0 < x < n and n % x == 0.\n",
        "    Replacing the number n on the chalkboard with n - x.\n",
        "\n",
        "Also, if a player cannot make a move, they lose the game.\n",
        "\n",
        "Return true if and only if Alice wins the game, assuming both players play optimally."
      ],
      "metadata": {
        "id": "l5J4vKlPaKZA"
      }
    },
    {
      "cell_type": "code",
      "source": [
        "import math\n",
        "class Solution:\n",
        "    def divisorGame(self, n: int) -> bool:\n",
        "        if n<2:\n",
        "            return False\n",
        "\n",
        "        dp=[False]*(n+1)\n",
        "        dp[2]=True\n",
        "        \n",
        "\n",
        "        for i in range(3,n+1):\n",
        "            for j in range(1,int(math.sqrt(i))+1):\n",
        "                if i%j==0 and dp[i-j]==False:\n",
        "                    dp[i]=True\n",
        "        return dp[-1]"
      ],
      "metadata": {
        "id": "RXKdp0cyaDiv"
      },
      "execution_count": null,
      "outputs": []
    },
    {
      "cell_type": "code",
      "source": [
        "# without dp\n",
        "class Solution:\n",
        "  def divisorGame(self, n: int) -> bool:\n",
        "    if(n % 2 == 0): return True\n",
        "    return False"
      ],
      "metadata": {
        "id": "iSt1xQu7abh8"
      },
      "execution_count": null,
      "outputs": []
    },
    {
      "cell_type": "markdown",
      "source": [
        "### [1221. Split a String in Balanced Strings](https://leetcode.com/problems/split-a-string-in-balanced-strings/)\n",
        "\n",
        "Balanced strings are those that have an equal quantity of 'L' and 'R' characters.\n",
        "\n",
        "Given a balanced string s, split it into some number of substrings such that:\n",
        "\n",
        "    Each substring is balanced.\n",
        "\n",
        "Return the maximum number of balanced strings you can obtain"
      ],
      "metadata": {
        "id": "eAhJSXGRbaPb"
      }
    },
    {
      "cell_type": "code",
      "source": [
        "class Solution(object):\n",
        "    def balancedStringSplit(self, s):\n",
        "        w_count = l_count = r_count = 0\n",
        "        for ch in s:\n",
        "            if ch == \"L\":\n",
        "                l_count += 1\n",
        "            else:\n",
        "                r_count += 1\n",
        "            if l_count == r_count:\n",
        "                w_count += 1\n",
        "        return w_count"
      ],
      "metadata": {
        "id": "s-uU8ATybZmU"
      },
      "execution_count": null,
      "outputs": []
    },
    {
      "cell_type": "markdown",
      "source": [
        "### [1137. N-th Tribonacci Number](https://leetcode.com/problems/n-th-tribonacci-number/)\n",
        "The Tribonacci sequence Tn is defined as follows: \n",
        "\n",
        "T0 = 0, T1 = 1, T2 = 1, and Tn+3 = Tn + Tn+1 + Tn+2 for n >= 0.\n",
        "\n",
        "Given n, return the value of Tn."
      ],
      "metadata": {
        "id": "5B1CtJhld2v-"
      }
    },
    {
      "cell_type": "code",
      "source": [
        "class Solution:\n",
        "    def tribonacci(self, n: int) -> int:\n",
        "        memo = {}\n",
        "        memo[0], memo[1], memo[2] = 0,1,1\n",
        "        def ans(n):\n",
        "            if n in memo:\n",
        "                return memo[n]\n",
        "            memo[n] = ans(n-1) + ans(n-2) + ans(n-3)       \n",
        "            return memo[n]\n",
        "        return ans(n)\n",
        "        "
      ],
      "metadata": {
        "id": "4GnZ1jqOeACB"
      },
      "execution_count": null,
      "outputs": []
    },
    {
      "cell_type": "markdown",
      "source": [
        "### [1641. Count Sorted Vowel Strings](https://leetcode.com/problems/count-sorted-vowel-strings/submissions/)\n",
        "Given an integer n, return the number of strings of length n that consist only of vowels (a, e, i, o, u) and are lexicographically sorted.\n",
        "\n",
        "A string s is lexicographically sorted if for all valid i, s[i] is the same as or comes before s[i+1] in the alphabet."
      ],
      "metadata": {
        "id": "WMX5KDxq0IHd"
      }
    },
    {
      "cell_type": "code",
      "source": [
        "class Solution:\n",
        "    def countVowelStrings(self, n: int) -> int:\n",
        "        arr = [1, 1, 1, 1, 1]  \n",
        "        for i in range(2, n+1):   \n",
        "            for j in range(5):  \n",
        "                arr[j] = sum(arr[j:])\n",
        "        return sum(arr)"
      ],
      "metadata": {
        "id": "Gsaj4v5B0Q23"
      },
      "execution_count": null,
      "outputs": []
    }
  ]
}